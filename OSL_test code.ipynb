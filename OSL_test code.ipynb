{
 "cells": [
  {
   "cell_type": "code",
   "execution_count": 67,
   "metadata": {},
   "outputs": [],
   "source": [
    "class PricingRules:\n",
    "    # class for price rule settings\n",
    "    \n",
    "    def __init__(self):\n",
    "        #initial SKU unit price\n",
    "        self.IPD = 549.99\n",
    "        self.IPD_BULK = 499.99\n",
    "        self.MBP = 1399.99\n",
    "        self.ATV = 109.5\n",
    "        self.VGA = 30\n",
    "\n",
    "    # opening day special 1: have a 3 for 2 deal on Apple TVs,buy 2 get 1 free, return discount amount\n",
    "    def _special_1(self):\n",
    "        return self.count_atv // 3 * self.ATV\n",
    "    \n",
    "    # opening day special 2: the price of super ipad have a discount that the price will drop to $499.99 each,return discount amount\n",
    "    def _special_2(self):\n",
    "        if self.count_ipd >4:\n",
    "            return self.count_ipd*(self.IPD-self.IPD_BULK)\n",
    "        else:\n",
    "            return 0\n",
    "        \n",
    "    # opening day special 3: get VGA free of charge with every Macbook pro,return discount amount\n",
    "    def _special_3(self):\n",
    "        if self.count_mbp>=self.count_vga:\n",
    "            return self.count_vga*self.VGA\n",
    "        else:\n",
    "            return self.count_mbp*self.VGA\n",
    "        \n",
    "\n",
    "class Checkout(PricingRules):\n",
    "    \n",
    "    def __init__(self):\n",
    "        super().__init__()\n",
    "        self.count_ipd = 0\n",
    "        self.count_mbp = 0\n",
    "        self.count_atv = 0\n",
    "        self.count_vga = 0\n",
    "        self.sku_list = []\n",
    "        \n",
    "    def scan(self,item):\n",
    "        isValid = True\n",
    "        \n",
    "        if (item=='ipd'):\n",
    "            self.count_ipd +=1\n",
    "        elif (item=='mbp'):\n",
    "            self.count_mbp +=1\n",
    "        elif (item=='atv'):\n",
    "            self.count_atv +=1\n",
    "        elif (item=='vga'):\n",
    "            self.count_vga +=1\n",
    "        else:\n",
    "            isValid = False\n",
    "            print(\"invalid SKU: %s\"%item)\n",
    "            \n",
    "        if isValid:\n",
    "            self.sku_list.append(item)\n",
    "    \n",
    "    def get_subtotal(self):\n",
    "        return self.count_ipd*self.IPD + self.count_mbp*self.MBP + \\\n",
    "                self.count_atv*self.ATV + self.count_vga*self.VGA\n",
    "    \n",
    "    def total(self):\n",
    "        sub_total= self.get_subtotal()\n",
    "        discount_total = self._special_1() + self._special_2()  + self._special_3()\n",
    "        total = sub_total - discount_total\n",
    "        \n",
    "        print('SKU Scanned: %s \\nTotal expected: $%.2f'% (', '.join(self.sku_list),total))    "
   ]
  },
  {
   "cell_type": "code",
   "execution_count": 72,
   "metadata": {},
   "outputs": [
    {
     "name": "stdout",
     "output_type": "stream",
     "text": [
      "SKU Scanned: atv, atv, atv, vga \n",
      "Total expected: $249.00\n"
     ]
    }
   ],
   "source": [
    "#testing case 1\n",
    "co= Checkout()\n",
    "co.scan('atv')\n",
    "co.scan('atv')\n",
    "co.scan('atv')\n",
    "co.scan('vga')\n",
    "co.total()"
   ]
  },
  {
   "cell_type": "code",
   "execution_count": 73,
   "metadata": {},
   "outputs": [
    {
     "name": "stdout",
     "output_type": "stream",
     "text": [
      "SKU Scanned: atv, ipd, ipd, atv, ipd, ipd, ipd \n",
      "Total expected: $2718.95\n"
     ]
    }
   ],
   "source": [
    "#testing case 2\n",
    "co= Checkout()\n",
    "co.scan('atv')\n",
    "co.scan('ipd')\n",
    "co.scan('ipd')\n",
    "co.scan('atv')\n",
    "co.scan('ipd')\n",
    "co.scan('ipd')\n",
    "co.scan('ipd')\n",
    "co.total()"
   ]
  },
  {
   "cell_type": "code",
   "execution_count": 74,
   "metadata": {},
   "outputs": [
    {
     "name": "stdout",
     "output_type": "stream",
     "text": [
      "SKU Scanned: mbp, vga, ipd \n",
      "Total expected: $1949.98\n"
     ]
    }
   ],
   "source": [
    "#testing case 3\n",
    "co= Checkout()\n",
    "co.scan('mbp')\n",
    "co.scan('vga')\n",
    "co.scan('ipd')\n",
    "co.total()"
   ]
  },
  {
   "cell_type": "code",
   "execution_count": 75,
   "metadata": {},
   "outputs": [
    {
     "name": "stdout",
     "output_type": "stream",
     "text": [
      "invalid SKU: ipod\n",
      "SKU Scanned: mbp, vga, ipd, vga, ipd \n",
      "Total expected: $2529.97\n"
     ]
    }
   ],
   "source": [
    "#test case 4 invalid item\n",
    "co= Checkout()\n",
    "co.scan('mbp')\n",
    "co.scan('vga')\n",
    "co.scan('ipd')\n",
    "co.scan('ipod')\n",
    "co.scan('vga')\n",
    "co.scan('ipd')\n",
    "\n",
    "co.total()"
   ]
  },
  {
   "cell_type": "code",
   "execution_count": null,
   "metadata": {},
   "outputs": [],
   "source": []
  }
 ],
 "metadata": {
  "kernelspec": {
   "display_name": "Python 3",
   "language": "python",
   "name": "python3"
  },
  "language_info": {
   "codemirror_mode": {
    "name": "ipython",
    "version": 3
   },
   "file_extension": ".py",
   "mimetype": "text/x-python",
   "name": "python",
   "nbconvert_exporter": "python",
   "pygments_lexer": "ipython3",
   "version": "3.7.3"
  },
  "toc": {
   "base_numbering": 1,
   "nav_menu": {},
   "number_sections": true,
   "sideBar": true,
   "skip_h1_title": true,
   "title_cell": "Table of Contents",
   "title_sidebar": "Contents",
   "toc_cell": false,
   "toc_position": {},
   "toc_section_display": true,
   "toc_window_display": false
  }
 },
 "nbformat": 4,
 "nbformat_minor": 4
}
