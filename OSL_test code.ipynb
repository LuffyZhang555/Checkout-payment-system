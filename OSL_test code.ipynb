{
 "cells": [
  {
   "cell_type": "code",
   "execution_count": 57,
   "metadata": {},
   "outputs": [],
   "source": [
    "#initial SKU unit price\n",
    "ipd_price = 549.99\n",
    "mbp_price = 1399.99\n",
    "atv_price = 109.5\n",
    "vga_price = 30"
   ]
  },
  {
   "cell_type": "code",
   "execution_count": 78,
   "metadata": {},
   "outputs": [],
   "source": [
    "class Checkout():\n",
    "    \n",
    "    def __init__(self):\n",
    "        self.count_ipd = 0\n",
    "        self.count_mbp = 0\n",
    "        self.count_atv = 0\n",
    "        self.count_vga = 0\n",
    "        self.sku_list = []\n",
    "        \n",
    "    def scan(self,item):\n",
    "        isValid = True\n",
    "        \n",
    "        if (item=='ipd'):\n",
    "            self.count_ipd +=1\n",
    "        elif (item=='mbp'):\n",
    "            self.count_mbp +=1\n",
    "        elif (item=='atv'):\n",
    "            self.count_atv +=1\n",
    "        elif (item=='vga'):\n",
    "            self.count_vga +=1\n",
    "        else:\n",
    "            isValid = False\n",
    "            print(\"invalid SKU: %s\"%item)\n",
    "            \n",
    "        if isValid:\n",
    "            self.sku_list.append(item)\n",
    "    \n",
    "    \n",
    "    def total(self):\n",
    "        \n",
    "        #opening day special 1: have a 3 for 2 deal on Apple TVs,buy 2 get 1 free\n",
    "        totaldiscount=self.count_atv // 3 * atv_price\n",
    "           \n",
    "        #opening day special 2: the price of super ipad have a discount that the price will drop to $499.99each\n",
    "        if self.count_ipd >4:\n",
    "            totaldiscount=totaldiscount+self.count_ipd*(ipd_price-499.99)\n",
    "            \n",
    "        #opening day special 3: get VGA free of charge with every Macbook pro\n",
    "        if self.count_mbp>=self.count_vga:\n",
    "            totaldiscount=totaldiscount+self.count_vga*vga_price\n",
    "        else:\n",
    "            totaldiscount=totaldiscount+self.count_mbp*vga_price\n",
    "\n",
    "        #we calculate the total expect using the following formula:\n",
    "        # total=originaltotal-special day dicount1-special day discount2-special day discount3\n",
    "        originaltotal=self.count_ipd*ipd_price+self.count_mbp*mbp_price+self.count_atv*atv_price+self.count_vga*vga_price\n",
    "        total=originaltotal-totaldiscount\n",
    "        return print('SKU Scanned: %s \\nTotal expected: $%.2f'% (', '.join(self.sku_list),total))\n",
    "    "
   ]
  },
  {
   "cell_type": "code",
   "execution_count": 79,
   "metadata": {},
   "outputs": [
    {
     "name": "stdout",
     "output_type": "stream",
     "text": [
      "SKU Scanned: atv, atv, atv, vga \n",
      "Total expected: $249.00\n"
     ]
    }
   ],
   "source": [
    "#testing case 1\n",
    "co= Checkout()\n",
    "co.scan('atv')\n",
    "co.scan('atv')\n",
    "co.scan('atv')\n",
    "co.scan('vga')\n",
    "co.total()"
   ]
  },
  {
   "cell_type": "code",
   "execution_count": 80,
   "metadata": {},
   "outputs": [
    {
     "name": "stdout",
     "output_type": "stream",
     "text": [
      "SKU Scanned: atv, ipd, ipd, atv, ipd, ipd, ipd \n",
      "Total expected: $2718.95\n"
     ]
    }
   ],
   "source": [
    "#testing case 2\n",
    "co= Checkout()\n",
    "co.scan('atv')\n",
    "co.scan('ipd')\n",
    "co.scan('ipd')\n",
    "co.scan('atv')\n",
    "co.scan('ipd')\n",
    "co.scan('ipd')\n",
    "co.scan('ipd')\n",
    "co.total()"
   ]
  },
  {
   "cell_type": "code",
   "execution_count": 81,
   "metadata": {},
   "outputs": [
    {
     "name": "stdout",
     "output_type": "stream",
     "text": [
      "SKU Scanned: mbp, vga, ipd \n",
      "Total expected: $1949.98\n"
     ]
    }
   ],
   "source": [
    "#testing case 3\n",
    "co= Checkout()\n",
    "co.scan('mbp')\n",
    "co.scan('vga')\n",
    "co.scan('ipd')\n",
    "co.total()"
   ]
  },
  {
   "cell_type": "code",
   "execution_count": 82,
   "metadata": {},
   "outputs": [
    {
     "name": "stdout",
     "output_type": "stream",
     "text": [
      "invalid SKU: ipod\n",
      "SKU Scanned: mbp, vga, ipd, vga, ipd \n",
      "Total expected: $2529.97\n"
     ]
    }
   ],
   "source": [
    "#test case 4 invalid item\n",
    "co= Checkout()\n",
    "co.scan('mbp')\n",
    "co.scan('vga')\n",
    "co.scan('ipd')\n",
    "co.scan('ipod')\n",
    "co.scan('vga')\n",
    "co.scan('ipd')\n",
    "\n",
    "co.total()"
   ]
  },
  {
   "cell_type": "code",
   "execution_count": null,
   "metadata": {},
   "outputs": [],
   "source": []
  }
 ],
 "metadata": {
  "kernelspec": {
   "display_name": "Python 3",
   "language": "python",
   "name": "python3"
  },
  "language_info": {
   "codemirror_mode": {
    "name": "ipython",
    "version": 3
   },
   "file_extension": ".py",
   "mimetype": "text/x-python",
   "name": "python",
   "nbconvert_exporter": "python",
   "pygments_lexer": "ipython3",
   "version": "3.8.5"
  }
 },
 "nbformat": 4,
 "nbformat_minor": 4
}
